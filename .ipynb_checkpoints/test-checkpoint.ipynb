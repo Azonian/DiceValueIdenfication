{
 "cells": [
  {
   "cell_type": "code",
   "execution_count": 1,
   "metadata": {},
   "outputs": [],
   "source": [
    "import cv2\n",
    "import numpy as np;\n",
    "import easygui\n",
    "import pytesseract\n",
    "#import pandas as pd;"
   ]
  },
  {
   "cell_type": "code",
   "execution_count": 2,
   "metadata": {},
   "outputs": [
    {
     "name": "stderr",
     "output_type": "stream",
     "text": [
      "libpng warning: iCCP: extra compressed data\n",
      "libpng warning: iCCP: extra compressed data\n"
     ]
    }
   ],
   "source": [
    "fileName = easygui.fileopenbox(filetypes=[\"*.jpg\",\"*.jpeg\",\"*.png\"])\n",
    "im = cv2.imread(fileName,cv2.IMREAD_COLOR)\n",
    "fileName2 = easygui.fileopenbox(filetypes=[\"*.jpg\",\"*.jpeg\",\"*.png\"])\n",
    "im2 = cv2.imread(fileName2,cv2.IMREAD_COLOR)"
   ]
  },
  {
   "cell_type": "code",
   "execution_count": 3,
   "metadata": {},
   "outputs": [],
   "source": [
    "gray = cv2.cvtColor(im, cv2.COLOR_BGR2GRAY)\n",
    "thresh = cv2.threshold(gray, 0, 255, cv2.THRESH_BINARY + cv2.THRESH_OTSU)[1]\n",
    "invert = 255 - thresh"
   ]
  },
  {
   "cell_type": "code",
   "execution_count": 4,
   "metadata": {},
   "outputs": [
    {
     "name": "stdout",
     "output_type": "stream",
     "text": [
      "6\n",
      "\n"
     ]
    }
   ],
   "source": [
    "data = pytesseract.image_to_string(invert, lang='eng', config='--psm 6')\n",
    "print(data)"
   ]
  },
  {
   "cell_type": "code",
   "execution_count": 5,
   "metadata": {},
   "outputs": [],
   "source": [
    "gray2 = cv2.cvtColor(im2, cv2.COLOR_BGR2GRAY)\n",
    "thresh2 = cv2.threshold(gray2, 0, 255, cv2.THRESH_BINARY + cv2.THRESH_OTSU)[1]\n",
    "invert2 = 255 - thresh2"
   ]
  },
  {
   "cell_type": "code",
   "execution_count": 6,
   "metadata": {},
   "outputs": [
    {
     "name": "stdout",
     "output_type": "stream",
     "text": [
      "S\n",
      "\n"
     ]
    }
   ],
   "source": [
    "data2 = pytesseract.image_to_string(invert2, lang='eng', config='--psm 6')\n",
    "print(data2)"
   ]
  },
  {
   "cell_type": "code",
   "execution_count": 7,
   "metadata": {},
   "outputs": [],
   "source": [
    "data = str(data)\n",
    "data2 = str(data2)"
   ]
  },
  {
   "cell_type": "code",
   "execution_count": 8,
   "metadata": {},
   "outputs": [
    {
     "name": "stdout",
     "output_type": "stream",
     "text": [
      "it's a number dice\n"
     ]
    }
   ],
   "source": [
    "dice1 = 0\n",
    "dice2 = 0 \n",
    "# if equals to 1 its a number if quals to 2 its a dot\n",
    "try:\n",
    "    data = int(data)\n",
    "    print(\"it's a number dice\")\n",
    "    dice1 = 1\n",
    "except ValueError:\n",
    "    print('Dot Dice')\n",
    "    dice1 = 2"
   ]
  },
  {
   "cell_type": "code",
   "execution_count": 9,
   "metadata": {},
   "outputs": [
    {
     "name": "stdout",
     "output_type": "stream",
     "text": [
      "Dot Dice\n"
     ]
    }
   ],
   "source": [
    "try:\n",
    "    data2 = int(data2)\n",
    "    print(\"it's a number dice\")\n",
    "    dice2 = 1\n",
    "except ValueError:\n",
    "    print('Dot Dice')\n",
    "    dice2 = 2"
   ]
  },
  {
   "cell_type": "code",
   "execution_count": 10,
   "metadata": {},
   "outputs": [
    {
     "name": "stdout",
     "output_type": "stream",
     "text": [
      "image one is the number\n"
     ]
    }
   ],
   "source": [
    "if dice1 == 1:\n",
    "    if dice2 == 1:\n",
    "        # # this is where you check confidence\n",
    "        # # # OCR detection\n",
    "        # d1 = pytesseract.image_to_data(invert, config=\"--psm 6\", output_type=pytesseract.Output.DICT)\n",
    "        # d2 = pytesseract.image_to_data(invert2, config=\"--psm 6\", output_type=pytesseract.Output.DICT)\n",
    "        # print(d1['conf'])\n",
    "        # print(d2['conf'])\n",
    "        print(\"both are numbers\")\n",
    "    else:\n",
    "        print(\"image one is the number\")\n",
    "else:\n",
    "    if dice2 == 1:\n",
    "        print(\"image two is the number\")\n",
    "    else:\n",
    "        print(\"both images are dots\")"
   ]
  },
  {
   "cell_type": "code",
   "execution_count": null,
   "metadata": {},
   "outputs": [],
   "source": []
  }
 ],
 "metadata": {
  "kernelspec": {
   "display_name": "Python 3 (ipykernel)",
   "language": "python",
   "name": "python3"
  },
  "language_info": {
   "codemirror_mode": {
    "name": "ipython",
    "version": 3
   },
   "file_extension": ".py",
   "mimetype": "text/x-python",
   "name": "python",
   "nbconvert_exporter": "python",
   "pygments_lexer": "ipython3",
   "version": "3.9.13"
  }
 },
 "nbformat": 4,
 "nbformat_minor": 2
}
